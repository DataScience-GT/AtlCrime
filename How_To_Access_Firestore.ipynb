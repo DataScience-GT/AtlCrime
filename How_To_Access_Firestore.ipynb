{
 "cells": [
  {
   "cell_type": "markdown",
   "metadata": {},
   "source": [
    "# How to Access Firestore\n",
    "\n",
    "Before following this notebook, make sure to:\n",
    "\n",
    "1. Make sure you have the `firebase_admin` python module installed\n",
    "    - Run `pip install firebase_admin` if you do not have it installed\n",
    "2. Obtain Firebase service account credentials\n",
    "    - Go to the Firebase project page\n",
    "    - Click on the gear icon next to \"Project Overview\" then click on \"Project Settings\"\n",
    "    - Go to \"Service Accounts\"\n",
    "    - Click on \"Generate new private key\" and save that JSON file to where you are working"
   ]
  },
  {
   "cell_type": "code",
   "execution_count": 1,
   "metadata": {},
   "outputs": [],
   "source": [
    "import firebase_admin\n",
    "from firebase_admin import credentials\n",
    "from firebase_admin import firestore"
   ]
  },
  {
   "cell_type": "markdown",
   "metadata": {},
   "source": [
    "Note: make sure to change `credentials_file_path` to match the file name of your JSON file"
   ]
  },
  {
   "cell_type": "code",
   "execution_count": 2,
   "metadata": {},
   "outputs": [],
   "source": [
    "credentials_file_path = \"credentials.json\"\n",
    "cred = credentials.Certificate('credentials.json')\n",
    "default_app = firebase_admin.initialize_app(cred)\n",
    "\n",
    "db = firestore.client()"
   ]
  },
  {
   "cell_type": "markdown",
   "metadata": {},
   "source": [
    "To reference the GT crime data, we must access the \"GT\" collection"
   ]
  },
  {
   "cell_type": "code",
   "execution_count": 3,
   "metadata": {},
   "outputs": [],
   "source": [
    "gt_ref = db.collection(u'gt')"
   ]
  },
  {
   "cell_type": "markdown",
   "metadata": {},
   "source": [
    "Now to get a document:"
   ]
  },
  {
   "cell_type": "code",
   "execution_count": 7,
   "metadata": {},
   "outputs": [
    {
     "data": {
      "text/plain": [
       "<generator object Query.get at 0x10bd6b6d8>"
      ]
     },
     "execution_count": 7,
     "metadata": {},
     "output_type": "execute_result"
    }
   ],
   "source": [
    "docs = gt_ref.limit(1).get()\n",
    "docs"
   ]
  },
  {
   "cell_type": "code",
   "execution_count": 8,
   "metadata": {},
   "outputs": [
    {
     "name": "stdout",
     "output_type": "stream",
     "text": [
      "00VrqyE2cZor3nE1WOFN {'LocationStreet': 'Cherry Street NW', 'OffenseCode': '9999', 'CreatedSource': 1.0, 'LocationCoordinates': nan, 'LocationDirectional': nan, 'IncidentToTime': '14:32:00', 'IncidentFromDate': '1/25/2017', 'IncidentToDate': '1/25/2017', 'LocationLandmark': 'Smith Building', 'PatrolZone': 'Z2', 'IncidentFromTime': '14:31:00', 'Offense Description': 'Non-Crime', 'LocationStreetNumber': 685.0, 'OCANumber': 17010150, 'CaseDisposition': nan, 'CaseStatus': 'Closed/Cleared', 'LocationCode': 'ONCAM'}\n"
     ]
    }
   ],
   "source": [
    "for doc in docs:\n",
    "    print(doc.id, doc.to_dict())"
   ]
  },
  {
   "cell_type": "markdown",
   "metadata": {},
   "source": [
    "You can also fetch the documents by ID:"
   ]
  },
  {
   "cell_type": "code",
   "execution_count": 9,
   "metadata": {},
   "outputs": [
    {
     "data": {
      "text/plain": [
       "{'IncidentFromDate': '1/25/2017',\n",
       " 'IncidentToDate': '1/25/2017',\n",
       " 'LocationLandmark': 'Smith Building',\n",
       " 'PatrolZone': 'Z2',\n",
       " 'IncidentFromTime': '14:31:00',\n",
       " 'Offense Description': 'Non-Crime',\n",
       " 'LocationStreetNumber': 685.0,\n",
       " 'OCANumber': 17010150,\n",
       " 'CaseDisposition': nan,\n",
       " 'CaseStatus': 'Closed/Cleared',\n",
       " 'LocationCode': 'ONCAM',\n",
       " 'LocationStreet': 'Cherry Street NW',\n",
       " 'OffenseCode': '9999',\n",
       " 'CreatedSource': 1.0,\n",
       " 'LocationCoordinates': nan,\n",
       " 'LocationDirectional': nan,\n",
       " 'IncidentToTime': '14:32:00'}"
      ]
     },
     "execution_count": 9,
     "metadata": {},
     "output_type": "execute_result"
    }
   ],
   "source": [
    "doc = gt_ref.document(u'00VrqyE2cZor3nE1WOFN').get()\n",
    "doc.to_dict()"
   ]
  },
  {
   "cell_type": "markdown",
   "metadata": {},
   "source": [
    "You can find more examples in the [Firestore Documentation](https://firebase.google.com/docs/firestore/)"
   ]
  },
  {
   "cell_type": "code",
   "execution_count": null,
   "metadata": {},
   "outputs": [],
   "source": []
  }
 ],
 "metadata": {
  "kernelspec": {
   "display_name": "Python 3",
   "language": "python",
   "name": "python3"
  },
  "language_info": {
   "codemirror_mode": {
    "name": "ipython",
    "version": 3
   },
   "file_extension": ".py",
   "mimetype": "text/x-python",
   "name": "python",
   "nbconvert_exporter": "python",
   "pygments_lexer": "ipython3",
   "version": "3.7.0"
  }
 },
 "nbformat": 4,
 "nbformat_minor": 2
}
